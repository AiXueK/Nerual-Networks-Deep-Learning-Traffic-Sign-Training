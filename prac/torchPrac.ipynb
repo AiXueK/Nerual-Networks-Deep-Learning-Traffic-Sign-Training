{
 "cells": [
  {
   "cell_type": "code",
   "execution_count": null,
   "metadata": {},
   "outputs": [],
   "source": [
    "import torch"
   ]
  },
  {
   "cell_type": "code",
   "execution_count": null,
   "metadata": {},
   "outputs": [],
   "source": [
    "in2hid = torch.nn.Linear(2,2)\n",
    "hit2out = torch.nn.Linear(2,1)"
   ]
  },
  {
   "cell_type": "code",
   "execution_count": null,
   "metadata": {},
   "outputs": [],
   "source": [
    "import torch.utils.data\n",
    "\n",
    "input = torch.Tensor([[0,0], [0,1], [1,0], [1,1]])\n",
    "target = torch.Tensor([[0], [1], [1], [0]])\n",
    "xdata = torch.utils.data.TensorDataset(input, target)\n",
    "torchLoader = torch.utils.data.DataLoader(xdata, batch_size=4)\n",
    "print(xdata, torchLoader)"
   ]
  },
  {
   "cell_type": "code",
   "execution_count": null,
   "metadata": {},
   "outputs": [],
   "source": [
    "import torch\n",
    "import torch.utils.data\n",
    "import numpy as np\n",
    "\n",
    "lr = 1.9 # learning rate\n",
    "mom = 0.0 # momentum\n",
    "\n",
    "class MyModel(torch.nn.Module):\n",
    "    def __init__(self):\n",
    "        super(MyModel, self).__init__()\n",
    "        self.A = torch.nn.Parameter(torch.zeros((1), requires_grad=True))\n",
    "    def forward(self, input):\n",
    "        output  = self.A * input\n",
    "        return(output)\n",
    "\n",
    "device = 'cpu'\n",
    "\n",
    "input  = torch.Tensor([[1]])\n",
    "target = torch.Tensor([[1]])\n",
    "\n",
    "slope_dataset = torch.utils.data.TensorDataset(input,target)\n",
    "train_loader  = torch.utils.data.DataLoader(slope_dataset,batch_size=1)\n",
    "\n",
    "# create neural network according to model specification\n",
    "net = MyModel().to(device) # CPU or GPU\n",
    "\n",
    "# choose between SGD, Adam or other optimizer\n",
    "optimizer = torch.optim.SGD(net.parameters(),lr=lr,momentum=mom)\n",
    "\n",
    "epochs = 1000\n",
    "\n",
    "for epoch in range(1, epochs):\n",
    "    for batch_id, (data,target) in enumerate(train_loader):\n",
    "        optimizer.zero_grad() # zero the gradients\n",
    "        output = net(data)    # apply network\n",
    "        loss = 0.5*torch.mean((output-target)*(output-target))\n",
    "        if type(net.A.grad) == type(None):\n",
    "            print('Ep%3d: zero_grad(): A.grad=  None  A.data=%7.4f loss=%7.4f' \\\n",
    "                      % (epoch, net.A.data, loss))\n",
    "        else:\n",
    "            print('Ep%3d: zero_grad(): A.grad=%7.4f A.data=%7.4f loss=%7.4f' \\\n",
    "                      % (epoch, net.A.grad, net.A.data, loss))\n",
    "        loss.backward()       # compute gradients\n",
    "        optimizer.step()      # update weights\n",
    "        print('            step(): A.grad=%7.4f A.data=%7.4f' \\\n",
    "                      % (net.A.grad, net.A.data))\n",
    "        if loss < 0.000000001 or np.isnan(loss.data):\n",
    "            exit(0)"
   ]
  },
  {
   "cell_type": "code",
   "execution_count": 2,
   "metadata": {},
   "outputs": [
    {
     "name": "stdout",
     "output_type": "stream",
     "text": [
      "x = :\n",
      "tensor([[0.8105, 0.6674, 0.8232],\n",
      "        [0.4895, 0.5515, 0.7536]])\n",
      "y = :\n",
      "tensor([[0.2710, 0.2915, 0.5700],\n",
      "        [0.5313, 0.5813, 0.8741]])\n",
      "\n",
      "\n",
      "x + y = :\n",
      "tensor([[1.0815, 0.9589, 1.3932],\n",
      "        [1.0208, 1.1329, 1.6276]])\n",
      "\n",
      "\n"
     ]
    }
   ],
   "source": [
    "\"\"\"\n",
    "TODO: Implement a simple tensor addition x + y. \n",
    "Assign the result to z. \n",
    "\"\"\"\n",
    "import torch\n",
    "\n",
    "shape = (2,3,)\n",
    "x = torch.rand(shape)\n",
    "y = torch.rand(shape)\n",
    "z = torch.zeros(shape)\n",
    "\n",
    "z = torch.add(x, y)\n",
    "\n",
    "print(\"x = :\")\n",
    "print(x)\n",
    "print(\"y = :\")\n",
    "print(y)\n",
    "\n",
    "print(\"\\n\")\n",
    "\n",
    "print(\"x + y = :\")\n",
    "print(z)\n",
    "print(\"\\n\")"
   ]
  },
  {
   "cell_type": "code",
   "execution_count": 5,
   "metadata": {},
   "outputs": [
    {
     "name": "stdout",
     "output_type": "stream",
     "text": [
      "tensor([[0.5116, 0.1707, 0.9792],\n",
      "        [0.6787, 0.6318, 0.0345]])\n",
      "z and its shape after reshaping:\n",
      "tensor([[0.5116, 0.1707],\n",
      "        [0.9792, 0.6787],\n",
      "        [0.6318, 0.0345]])\n",
      "torch.Size([3, 2])\n",
      "\n",
      "\n"
     ]
    }
   ],
   "source": [
    "z = torch.rand([2,3])\n",
    "new_shape = (3,2)\n",
    "\n",
    "\"\"\"\n",
    "TODO: Reshapes the tensor z with the given shape (new_shape) \n",
    "Hint: use view()\n",
    "\"\"\"\n",
    "print(z)\n",
    "z = z.view(new_shape)\n",
    "\n",
    "print(\"z and its shape after reshaping:\")\n",
    "print(z)\n",
    "print(z.shape)\n",
    "print(\"\\n\")"
   ]
  },
  {
   "cell_type": "markdown",
   "metadata": {},
   "source": [
    "# Flatten"
   ]
  },
  {
   "cell_type": "code",
   "execution_count": 8,
   "metadata": {},
   "outputs": [
    {
     "name": "stdout",
     "output_type": "stream",
     "text": [
      "z and its shape after the flatten operation:\n",
      "tensor([0.5071, 0.0168, 0.7940, 0.0651, 0.3566, 0.7034])\n",
      "torch.Size([6])\n",
      "\n",
      "\n"
     ]
    }
   ],
   "source": [
    "z = torch.rand([2,3])\n",
    "\"\"\"\n",
    "Flatten\n",
    "TODO: Flatten the tensor z.\n",
    "Hint: use view()\n",
    "\"\"\"\n",
    "\n",
    "z = z.view([z.shape[0]*z.shape[1]])\n",
    "\n",
    "# you can also use z = torch.flatten(z) in case z is not contiguous.\n",
    "\n",
    "print(\"z and its shape after the flatten operation:\")\n",
    "print(z)\n",
    "print(z.shape)\n",
    "print(\"\\n\")"
   ]
  },
  {
   "cell_type": "markdown",
   "metadata": {},
   "source": [
    "# Transpose"
   ]
  },
  {
   "cell_type": "code",
   "execution_count": 10,
   "metadata": {},
   "outputs": [
    {
     "name": "stdout",
     "output_type": "stream",
     "text": [
      "tensor([[0.8558, 0.6278, 0.0282],\n",
      "        [0.1189, 0.8003, 0.0479]])\n",
      "z and its shape after the transpose operation:\n",
      "tensor([[0.8558, 0.1189],\n",
      "        [0.6278, 0.8003],\n",
      "        [0.0282, 0.0479]])\n",
      "torch.Size([3, 2])\n",
      "\n",
      "\n"
     ]
    }
   ],
   "source": [
    "z = torch.rand([2,3])\n",
    "\n",
    "\"\"\"\n",
    "TODO: Swaps the first dimension and the second dimension of z.\n",
    "\"\"\"\n",
    "print(z)\n",
    "z = torch.transpose(z, 0, 1)\n",
    "\n",
    "\n",
    "print(\"z and its shape after the transpose operation:\")\n",
    "print(z)\n",
    "print(z.shape)\n",
    "print(\"\\n\")"
   ]
  },
  {
   "cell_type": "markdown",
   "metadata": {},
   "source": [
    "# Permutation"
   ]
  },
  {
   "cell_type": "code",
   "execution_count": 11,
   "metadata": {},
   "outputs": [
    {
     "name": "stdout",
     "output_type": "stream",
     "text": [
      "tensor([[[0.4273],\n",
      "         [0.8112],\n",
      "         [0.7757],\n",
      "         [0.4968],\n",
      "         [0.2542]],\n",
      "\n",
      "        [[0.3912],\n",
      "         [0.0010],\n",
      "         [0.2597],\n",
      "         [0.3385],\n",
      "         [0.1966]],\n",
      "\n",
      "        [[0.6381],\n",
      "         [0.2678],\n",
      "         [0.3850],\n",
      "         [0.2426],\n",
      "         [0.3182]]])\n",
      "z and its shape after permutation\n",
      "tensor([[[0.4273, 0.8112, 0.7757, 0.4968, 0.2542],\n",
      "         [0.3912, 0.0010, 0.2597, 0.3385, 0.1966],\n",
      "         [0.6381, 0.2678, 0.3850, 0.2426, 0.3182]]])\n",
      "torch.Size([1, 3, 5])\n",
      "\n",
      "\n"
     ]
    }
   ],
   "source": [
    "\"\"\"\n",
    "Permutation\n",
    "TODO: Permute the dimensions of z according to the given order (swapping axes). here is (3,5,1) ->\n",
    "(1,3,5)\n",
    "\"\"\"\n",
    "\n",
    "# Create a new tensor\n",
    "shape = (3,5,1)\n",
    "z = torch.rand(shape)\n",
    "order = [2,0,1]\n",
    "print(z)\n",
    "\n",
    "z = torch.permute(z, order)\n",
    "\n",
    "print(\"z and its shape after permutation\")\n",
    "print(z)\n",
    "print(z.shape)\n",
    "print(\"\\n\")"
   ]
  },
  {
   "cell_type": "markdown",
   "metadata": {},
   "source": [
    "# Dot Product"
   ]
  },
  {
   "cell_type": "code",
   "execution_count": 12,
   "metadata": {},
   "outputs": [
    {
     "name": "stdout",
     "output_type": "stream",
     "text": [
      "The dot product of u and v:\n",
      "7\n",
      "\n",
      "\n"
     ]
    }
   ],
   "source": [
    "\"\"\"\n",
    "TODO: Calculate the dot product of\n",
    "      two rank 1 tensors (vectors) u and v.\n",
    "\"\"\"\n",
    "\n",
    "\n",
    "# Create two vectors\n",
    "v = torch.tensor([2, 3])\n",
    "u = torch.tensor([2, 1])\n",
    "\n",
    "result = torch.dot(v, u)\n",
    "\n",
    "print(\"The dot product of u and v:\")\n",
    "print(result.item())\n",
    "print(\"\\n\")"
   ]
  },
  {
   "cell_type": "markdown",
   "metadata": {},
   "source": [
    "# Concatenation"
   ]
  },
  {
   "cell_type": "code",
   "execution_count": 14,
   "metadata": {},
   "outputs": [
    {
     "name": "stdout",
     "output_type": "stream",
     "text": [
      "The Concatenated tensor z of (x, y)\n",
      "tensor([[0.7539, 0.8544, 0.6248, 0.3019, 0.7224, 0.6188],\n",
      "        [0.0924, 0.3479, 0.8331, 0.0982, 0.3576, 0.6090]])\n",
      "\n",
      "\n"
     ]
    }
   ],
   "source": [
    "shape = (2,3,)\n",
    "x = torch.rand(shape)\n",
    "y = torch.rand(shape)\n",
    "\n",
    "\"\"\"\n",
    "TODO: Concatenate (x,y) in dimension 1.\n",
    "\"\"\"\n",
    "z = torch.concat((x, y), 1)\n",
    "\n",
    "print(\"The Concatenated tensor z of (x, y)\")\n",
    "print(z)\n",
    "print(\"\\n\")"
   ]
  }
 ],
 "metadata": {
  "kernelspec": {
   "display_name": "Python 3.9.7 ('MachineLearning')",
   "language": "python",
   "name": "python3"
  },
  "language_info": {
   "codemirror_mode": {
    "name": "ipython",
    "version": 3
   },
   "file_extension": ".py",
   "mimetype": "text/x-python",
   "name": "python",
   "nbconvert_exporter": "python",
   "pygments_lexer": "ipython3",
   "version": "3.9.7"
  },
  "orig_nbformat": 4,
  "vscode": {
   "interpreter": {
    "hash": "214ae68cde09160b8ce3e3ae0b1a810390b234a3510cad6ac9e7f470db8235ac"
   }
  }
 },
 "nbformat": 4,
 "nbformat_minor": 2
}
