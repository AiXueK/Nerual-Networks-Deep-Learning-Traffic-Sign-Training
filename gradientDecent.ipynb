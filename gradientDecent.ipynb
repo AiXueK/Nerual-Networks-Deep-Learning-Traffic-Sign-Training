{
 "cells": [
  {
   "cell_type": "code",
   "execution_count": 1,
   "metadata": {},
   "outputs": [
    {
     "data": {
      "image/png": "[encoded data removed]",
      "text/plain": [
       "<Figure size 432x288 with 1 Axes>"
      ]
     },
     "metadata": {
      "needs_background": "light"
     },
     "output_type": "display_data"
    }
   ],
   "source": [
    "import numpy as np\n",
    "import numpy.linalg as lng\n",
    "import matplotlib.pyplot as plt\n",
    "\n",
    "# Generate data\n",
    "x = np.random.rand(100,1)\n",
    "y = 1 + 5*x + 0.1*np.random.randn(100,1)\n",
    "\n",
    "\n",
    "# Visualize the data\n",
    "plt.plot(x,y,'ro')\n",
    "plt.xlabel('x')\n",
    "plt.ylabel('y')\n",
    "plt.show()\n"
   ]
  },
  {
   "cell_type": "code",
   "execution_count": 13,
   "metadata": {},
   "outputs": [
    {
     "name": "stdout",
     "output_type": "stream",
     "text": [
      "[[1.01358281]\n",
      " [4.95497668]]\n"
     ]
    },
    {
     "data": {
      "text/plain": [
       "[<matplotlib.lines.Line2D at 0x2252f4f1190>,\n",
       " <matplotlib.lines.Line2D at 0x2252f4f1250>]"
      ]
     },
     "execution_count": 13,
     "metadata": {},
     "output_type": "execute_result"
    },
    {
     "data": {
      "image/png": "[encoded data removed]",
      "text/plain": [
       "<Figure size 432x288 with 1 Axes>"
      ]
     },
     "metadata": {
      "needs_background": "light"
     },
     "output_type": "display_data"
    }
   ],
   "source": [
    "# Vectorize x and y\n",
    "n = len(x)\n",
    "X = np.ones((n,2))\n",
    "Y = np.zeros((n,1))\n",
    "for i in range(n):\n",
    "    X[i][1] = x[i]\n",
    "    Y[i] = y[i]\n",
    "    \n",
    "# initialize weights\n",
    "w = np.zeros((2,1))\n",
    "\n",
    "# Set learning rate\n",
    "eta = 1e-3\n",
    "\n",
    "# max number of iterations\n",
    "maxiter = 1000\n",
    "\n",
    "\n",
    "iters = 0\n",
    "\n",
    "while (iters < maxiter):\n",
    "    # TODO: calculate the gradient and update w according \n",
    "    # to the update formula\n",
    "    gradientW = -np.matmul(np.transpose(X), (Y - np.matmul(X, w)))\n",
    "    w -= eta * gradientW\n",
    "    iters += 1\n",
    "\n",
    "    \n",
    "    \n",
    "# Print estimated weights\n",
    "print(w)\n",
    "\n",
    "\n",
    "# Visualize the data\n",
    "pred_y = np.dot(X,w)\n",
    "plt.plot(x,y,'ro',x, pred_y, 'b--')\n",
    "\n"
   ]
  }
 ],
 "metadata": {
  "kernelspec": {
   "display_name": "Python 3.9.7 ('MachineLearning')",
   "language": "python",
   "name": "python3"
  },
  "language_info": {
   "codemirror_mode": {
    "name": "ipython",
    "version": 3
   },
   "file_extension": ".py",
   "mimetype": "text/x-python",
   "name": "python",
   "nbconvert_exporter": "python",
   "pygments_lexer": "ipython3",
   "version": "3.9.13"
  },
  "orig_nbformat": 4,
  "vscode": {
   "interpreter": {
    "hash": "214ae68cde09160b8ce3e3ae0b1a810390b234a3510cad6ac9e7f470db8235ac"
   }
  }
 },
 "nbformat": 4,
 "nbformat_minor": 2
}
